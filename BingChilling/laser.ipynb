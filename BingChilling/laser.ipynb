{
 "cells": [
  {
   "cell_type": "code",
   "execution_count": 1,
   "metadata": {},
   "outputs": [],
   "source": [
    "import cv2\n",
    "import numpy as np"
   ]
  },
  {
   "cell_type": "code",
   "execution_count": 36,
   "metadata": {},
   "outputs": [],
   "source": [
    "\n",
    "\n",
    "img = cv2.imread('LaserImages/8.jpg')\n",
    "# cap = cv2.VideoCapture(0)\n",
    "imgS = cv2.resize(img,(0,0),None,.5,.5)\n",
    "\n",
    "# while(1):\n",
    "frame = imgS\n",
    "# It converts the BGR color space of image to HSV color space\n",
    "hsv = cv2.cvtColor(frame, cv2.COLOR_BGR2HSV)\n",
    "\n",
    "# Threshold of red in HSV space\n",
    "lower_red = np.array([0, 8, 239])\n",
    "upper_red = np.array([10, 94, 255])\n",
    "\n",
    "# preparing the mask to overlay\n",
    "mask = cv2.inRange(hsv, lower_red, upper_red)\n",
    "\n",
    "# The black region in the mask has the value of 0,\n",
    "# so when multiplied with original image removes all non-red regions\n",
    "result = cv2.bitwise_and(frame, frame, mask = mask)\n",
    "\n",
    "\n",
    "\n",
    "\n"
   ]
  },
  {
   "cell_type": "code",
   "execution_count": 37,
   "metadata": {},
   "outputs": [],
   "source": [
    "cv2.imshow('frame', frame)\n",
    "cv2.imshow('mask', mask)\n",
    "cv2.waitKey(0)\n",
    "\n",
    "\n",
    "cv2.destroyAllWindows()"
   ]
  },
  {
   "cell_type": "code",
   "execution_count": 25,
   "metadata": {},
   "outputs": [],
   "source": [
    "cv2.imshow('mask', mask)\n",
    "cv2.waitKey(0)\n",
    "cv2.destroyAllWindows()"
   ]
  },
  {
   "cell_type": "code",
   "execution_count": 19,
   "metadata": {},
   "outputs": [],
   "source": [
    "cv2.imshow('result', result)\n",
    "cv2.waitKey(0)\n",
    "cv2.destroyAllWindows()"
   ]
  },
  {
   "cell_type": "code",
   "execution_count": null,
   "metadata": {},
   "outputs": [],
   "source": []
  },
  {
   "cell_type": "code",
   "execution_count": 35,
   "metadata": {},
   "outputs": [
    {
     "name": "stdout",
     "output_type": "stream",
     "text": [
      "Press [q] or [esc] to close the window.\n",
      "Image filtered in HSV between [137   0  22] and [174 128 255].\n"
     ]
    }
   ],
   "source": [
    "from colorfilters import HSVFilter\n",
    "import cv2 as cv\n",
    "\n",
    "img = cv.imread(\"LaserImages/6.jpg\")\n",
    "imgS = cv2.resize(img,(0,0),None,.3,.3)\n",
    "window = HSVFilter(imgS)\n",
    "window.show()\n",
    "\n",
    "print(f\"Image filtered in HSV between {window.lowerb} and {window.upperb}.\")\n"
   ]
  }
 ],
 "metadata": {
  "kernelspec": {
   "display_name": "Python 3",
   "language": "python",
   "name": "python3"
  },
  "language_info": {
   "codemirror_mode": {
    "name": "ipython",
    "version": 3
   },
   "file_extension": ".py",
   "mimetype": "text/x-python",
   "name": "python",
   "nbconvert_exporter": "python",
   "pygments_lexer": "ipython3",
   "version": "3.10.0"
  },
  "orig_nbformat": 4,
  "vscode": {
   "interpreter": {
    "hash": "e911bb79b95f2b40b7952d718cdc0528e6543e46ce2458b7a9454f8f1b299696"
   }
  }
 },
 "nbformat": 4,
 "nbformat_minor": 2
}
