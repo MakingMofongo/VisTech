{
 "cells": [
  {
   "cell_type": "code",
   "execution_count": 14,
   "metadata": {},
   "outputs": [],
   "source": [
    "import face_recognition\n",
    "import cv2\n",
    "import os"
   ]
  },
  {
   "cell_type": "code",
   "execution_count": 22,
   "metadata": {},
   "outputs": [
    {
     "name": "stdout",
     "output_type": "stream",
     "text": [
      "True\n",
      "Faces\\Captured\\Jo.jpeg\n",
      "[[[184 185 183]\n",
      "  [181 182 178]\n",
      "  [187 186 182]\n",
      "  ...\n",
      "  [210 211 209]\n",
      "  [210 211 209]\n",
      "  [210 211 209]]\n",
      "\n",
      " [[183 184 182]\n",
      "  [179 180 176]\n",
      "  [185 185 179]\n",
      "  ...\n",
      "  [210 211 209]\n",
      "  [210 211 209]\n",
      "  [210 211 209]]\n",
      "\n",
      " [[180 184 179]\n",
      "  [176 180 175]\n",
      "  [182 184 178]\n",
      "  ...\n",
      "  [209 210 208]\n",
      "  [209 210 208]\n",
      "  [209 210 208]]\n",
      "\n",
      " ...\n",
      "\n",
      " [[186 185 181]\n",
      "  [188 187 183]\n",
      "  [191 190 186]\n",
      "  ...\n",
      "  [159 159 159]\n",
      "  [159 159 159]\n",
      "  [159 159 159]]\n",
      "\n",
      " [[182 181 177]\n",
      "  [184 183 179]\n",
      "  [188 187 183]\n",
      "  ...\n",
      "  [159 159 159]\n",
      "  [159 159 159]\n",
      "  [159 159 159]]\n",
      "\n",
      " [[179 178 174]\n",
      "  [181 180 176]\n",
      "  [185 184 180]\n",
      "  ...\n",
      "  [158 158 158]\n",
      "  [158 158 158]\n",
      "  [158 158 158]]]\n"
     ]
    },
    {
     "data": {
      "text/plain": [
       "-1"
      ]
     },
     "execution_count": 22,
     "metadata": {},
     "output_type": "execute_result"
    }
   ],
   "source": [
    "path = r'C:\\Users\\Abdul Rasheed\\OneDrive\\Documents\\GitHub\\VisTech\\BingChilling\\Faces\\Captured\\Jo.jpeg'\n",
    "print(os.path.exists(path))\n",
    "print(os.path.relpath(path))\n",
    "from pathlib import Path\n",
    "print(Path.cwd)\n",
    "\n",
    "img=3\n",
    "img = cv2.imread(path)\n",
    "print(img)\n",
    "# cv2.imshow('bruh',img)\n",
    "cv2.waitKey(0)\n"
   ]
  },
  {
   "cell_type": "code",
   "execution_count": null,
   "metadata": {},
   "outputs": [],
   "source": [
    "face_recognition.face_encodings(img)[0]"
   ]
  }
 ],
 "metadata": {
  "kernelspec": {
   "display_name": "Python 3",
   "language": "python",
   "name": "python3"
  },
  "language_info": {
   "codemirror_mode": {
    "name": "ipython",
    "version": 3
   },
   "file_extension": ".py",
   "mimetype": "text/x-python",
   "name": "python",
   "nbconvert_exporter": "python",
   "pygments_lexer": "ipython3",
   "version": "3.10.0 (tags/v3.10.0:b494f59, Oct  4 2021, 19:00:18) [MSC v.1929 64 bit (AMD64)]"
  },
  "orig_nbformat": 4,
  "vscode": {
   "interpreter": {
    "hash": "e911bb79b95f2b40b7952d718cdc0528e6543e46ce2458b7a9454f8f1b299696"
   }
  }
 },
 "nbformat": 4,
 "nbformat_minor": 2
}
