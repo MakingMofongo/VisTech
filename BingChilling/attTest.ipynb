{
 "cells": [
  {
   "cell_type": "code",
   "execution_count": 1,
   "metadata": {},
   "outputs": [],
   "source": [
    "import openpyxl"
   ]
  },
  {
   "cell_type": "code",
   "execution_count": 4,
   "metadata": {},
   "outputs": [
    {
     "name": "stdout",
     "output_type": "stream",
     "text": [
      "workbook loaded\n"
     ]
    }
   ],
   "source": [
    "names =[]\n",
    "wb = openpyxl.load_workbook('attendance.xlsx')\n",
    "ws = wb['Sheet1']\n",
    "print('workbook loaded')"
   ]
  },
  {
   "cell_type": "code",
   "execution_count": 24,
   "metadata": {},
   "outputs": [
    {
     "name": "stdout",
     "output_type": "stream",
     "text": [
      "name SUGMA BALLLLLLLLLLLLLL excelled\n"
     ]
    }
   ],
   "source": [
    "def attendance(name):\n",
    "    global cName\n",
    "    cName=''\n",
    "    if name in names:\n",
    "        if cName==name:\n",
    "            print('Attendance already taken')\n",
    "            return 0\n",
    "        cName=name\n",
    "    ws.append([name])\n",
    "    print(f'name {name} excelled')\n",
    "\n",
    "    names.append(name)\n",
    "    wb.save('attendance.xlsx')\n",
    "attendance('SUGMA BALLLLLLLLLLLLLL')"
   ]
  }
 ],
 "metadata": {
  "kernelspec": {
   "display_name": "Python 3",
   "language": "python",
   "name": "python3"
  },
  "language_info": {
   "codemirror_mode": {
    "name": "ipython",
    "version": 3
   },
   "file_extension": ".py",
   "mimetype": "text/x-python",
   "name": "python",
   "nbconvert_exporter": "python",
   "pygments_lexer": "ipython3",
   "version": "3.10.0"
  },
  "orig_nbformat": 4,
  "vscode": {
   "interpreter": {
    "hash": "e911bb79b95f2b40b7952d718cdc0528e6543e46ce2458b7a9454f8f1b299696"
   }
  }
 },
 "nbformat": 4,
 "nbformat_minor": 2
}
