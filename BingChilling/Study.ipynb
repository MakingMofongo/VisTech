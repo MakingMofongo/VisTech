{
 "cells": [
  {
   "cell_type": "code",
   "execution_count": 23,
   "metadata": {},
   "outputs": [
    {
     "name": "stdout",
     "output_type": "stream",
     "text": [
      "bruh\n",
      "bruh bruh hakgu\n",
      "bruh bruh hakgu\n"
     ]
    }
   ],
   "source": [
    "class Robot:\n",
    "    name = 'b' #class variable\n",
    "    def __init__(self,name):\n",
    "        self.name = name #instance variable\n",
    "        print(\"%s\"%(self.name))\n",
    "\n",
    "        print(\"bruh %s hakgu\" %self.name)\n",
    "        print(f\"bruh {self.name} hakgu\")\n",
    "    \n",
    "    \n",
    "objdasd = Robot('bruh')\n",
    "\n",
    "# print(obj.name)\n",
    "# print(Robot.name)"
   ]
  },
  {
   "cell_type": "code",
   "execution_count": 28,
   "metadata": {},
   "outputs": [
    {
     "name": "stdout",
     "output_type": "stream",
     "text": [
      "Remaining balance:  49945\n",
      "Updated balance:  50000\n"
     ]
    }
   ],
   "source": [
    "class ATM:\n",
    " def __init__(self):\n",
    "    self.balance = 50000\n",
    " def withdraw(self, amount):\n",
    "    if(amount > self.balance):\n",
    "        print(\"Insufficient Balance\");\n",
    "    else:\n",
    "        self.balance -= amount\n",
    "        print(\"Remaining balance: \",self.balance)\n",
    " def deposit(self, amount):\n",
    "    self.balance += amount\n",
    "    print(\"Updated balance: \",self.balance)\n",
    "\n",
    "obj = ATM()\n",
    "v1 = int(input(\"Enter the amount to withdraw: \"))\n",
    "obj.withdraw(v1)\n",
    "v2=int(input(\"Enter the amount to deposit: \"))\n",
    "obj.deposit(v2)\n"
   ]
  },
  {
   "cell_type": "code",
   "execution_count": 105,
   "metadata": {},
   "outputs": [
    {
     "data": {
      "text/plain": [
       "'12'"
      ]
     },
     "execution_count": 105,
     "metadata": {},
     "output_type": "execute_result"
    }
   ],
   "source": [
    "from datetime import datetime\n",
    "time = datetime.now()\n",
    "time.strftime(\"%H\")"
   ]
  },
  {
   "cell_type": "code",
   "execution_count": 111,
   "metadata": {},
   "outputs": [
    {
     "name": "stdout",
     "output_type": "stream",
     "text": [
      "we are bruh and we make bruh food \n"
     ]
    }
   ],
   "source": [
    "from datetime import datetime\n",
    "class Restaurant:\n",
    "    def __init__(self,name,cuisine):\n",
    "        self.name = name\n",
    "        self.cuisine = cuisine\n",
    "    def details(self):\n",
    "        print (f'we are {self.name} and we make {self.cuisine} food ')\n",
    "    def open(self):\n",
    "        time = datetime.now()\n",
    "        hr = time.strftime('%H')\n",
    "        if (hr >10 & hr <22):\n",
    "            print ('open')\n",
    "        else:\n",
    "            print ('closed')\n",
    "    \n",
    "\n",
    "n = input('name bolo')\n",
    "c = input('cuisine bolo')\n",
    "obj = Restaurant(n,c)\n",
    "obj.details()\n",
    "\n",
    "\n",
    "\n",
    "\n",
    "\n",
    "\n",
    "\n"
   ]
  },
  {
   "cell_type": "code",
   "execution_count": 138,
   "metadata": {},
   "outputs": [
    {
     "name": "stdout",
     "output_type": "stream",
     "text": [
      "not bruh\n"
     ]
    }
   ],
   "source": [
    "# Consecutive 4 number sum\n",
    "n =int(input('numeros:'))\n",
    "isBruh = False\n",
    "for i in range(1,n//2):\n",
    "    if i*4+6 ==n:\n",
    "        print ('bruh')\n",
    "        isBruh = True\n",
    "        break\n",
    "    else:\n",
    "        isBruh = False\n",
    "if not isBruh:\n",
    "    print ('not bruh')"
   ]
  },
  {
   "cell_type": "code",
   "execution_count": 157,
   "metadata": {},
   "outputs": [
    {
     "name": "stdout",
     "output_type": "stream",
     "text": [
      "1\n"
     ]
    }
   ],
   "source": [
    "n= input('numeros:')\n",
    "digits = (len(n))\n",
    "s1=0\n",
    "s2=0\n",
    "for i in range(0,digits,2):\n",
    "    s1+=int(n[i])\n",
    "    s2+=int(n[i+1])\n",
    "print (s1-s2)\n",
    "\n",
    "\n",
    "    \n",
    "\n"
   ]
  },
  {
   "cell_type": "code",
   "execution_count": 174,
   "metadata": {},
   "outputs": [
    {
     "name": "stdout",
     "output_type": "stream",
     "text": [
      ":(\n"
     ]
    }
   ],
   "source": [
    "n= input('numeros:')\n",
    "digits = (len(n))\n",
    "\n",
    "c1=0\n",
    "c2=0\n",
    "l = len(n)\n",
    "for i in n:\n",
    "    if i =='0':\n",
    "        c1+=1\n",
    "    else:\n",
    "        c2+=1\n",
    "\n",
    "if (c1==l-1 or c2==l-1):\n",
    "    print('yEEEAASSASA')\n",
    "else:\n",
    "    print(':(')"
   ]
  },
  {
   "cell_type": "code",
   "execution_count": 184,
   "metadata": {},
   "outputs": [
    {
     "ename": "ValueError",
     "evalue": "invalid literal for int() with base 10: '10 10'",
     "output_type": "error",
     "traceback": [
      "\u001b[1;31m---------------------------------------------------------------------------\u001b[0m",
      "\u001b[1;31mValueError\u001b[0m                                Traceback (most recent call last)",
      "\u001b[1;32mc:\\Users\\Abdul Rasheed\\OneDrive\\Documents\\GitHub\\VisTech\\BingChilling\\Study.ipynb Cell 8\u001b[0m in \u001b[0;36m<cell line: 2>\u001b[1;34m()\u001b[0m\n\u001b[0;32m      <a href='vscode-notebook-cell:/c%3A/Users/Abdul%20Rasheed/OneDrive/Documents/GitHub/VisTech/BingChilling/Study.ipynb#X10sZmlsZQ%3D%3D?line=0'>1</a>\u001b[0m numbers \u001b[39m=\u001b[39m \u001b[39minput\u001b[39m(\u001b[39m\"\u001b[39m\u001b[39mEnter numbers: \u001b[39m\u001b[39m\"\u001b[39m)\n\u001b[1;32m----> <a href='vscode-notebook-cell:/c%3A/Users/Abdul%20Rasheed/OneDrive/Documents/GitHub/VisTech/BingChilling/Study.ipynb#X10sZmlsZQ%3D%3D?line=1'>2</a>\u001b[0m list1 \u001b[39m=\u001b[39m \u001b[39mint\u001b[39;49m(numbers)\n\u001b[0;32m      <a href='vscode-notebook-cell:/c%3A/Users/Abdul%20Rasheed/OneDrive/Documents/GitHub/VisTech/BingChilling/Study.ipynb#X10sZmlsZQ%3D%3D?line=2'>3</a>\u001b[0m list2 \u001b[39m=\u001b[39m []\n\u001b[0;32m      <a href='vscode-notebook-cell:/c%3A/Users/Abdul%20Rasheed/OneDrive/Documents/GitHub/VisTech/BingChilling/Study.ipynb#X10sZmlsZQ%3D%3D?line=3'>4</a>\u001b[0m \u001b[39mfor\u001b[39;00m val \u001b[39min\u001b[39;00m list1:\n",
      "\u001b[1;31mValueError\u001b[0m: invalid literal for int() with base 10: '10 10'"
     ]
    }
   ],
   "source": [
    "numbers = input(\"Enter numbers: \")\n",
    "list1 = int(numbers)\n",
    "list2 = []\n",
    "for val in list1:\n",
    " list2.append((val, val**3))\n",
    "print(\"List of tuples:\",list2)\n"
   ]
  },
  {
   "cell_type": "code",
   "execution_count": 194,
   "metadata": {},
   "outputs": [
    {
     "name": "stdout",
     "output_type": "stream",
     "text": [
      "[(1, 1), (2, 8), (3, 27)]\n"
     ]
    }
   ],
   "source": [
    "a = input('numbers:')\n",
    "a=a.split()\n",
    "\n",
    "tup = []\n",
    "for i in a:\n",
    "    i = int(i)\n",
    "    tup.append((i,i**3))\n",
    "print(tup)\n"
   ]
  },
  {
   "cell_type": "code",
   "execution_count": 1,
   "metadata": {},
   "outputs": [
    {
     "name": "stdout",
     "output_type": "stream",
     "text": [
      "\n",
      " BRuhmeee werwerewme\n",
      "\n",
      " BRuhmeee werwerewme\n",
      "\n",
      " BRuhmeee werwerewme\n",
      "\n",
      " BRuhmeee werwerewme\n"
     ]
    }
   ],
   "source": [
    "for i in reversed(range(0,4)):\n",
    "    print('\\n BRuhmeee werwerew',end='me')\n",
    "\n",
    "    print()"
   ]
  },
  {
   "cell_type": "code",
   "execution_count": null,
   "metadata": {},
   "outputs": [],
   "source": [
    "adflkasjdflkasdjf;"
   ]
  }
 ],
 "metadata": {
  "kernelspec": {
   "display_name": "Python 3",
   "language": "python",
   "name": "python3"
  },
  "language_info": {
   "codemirror_mode": {
    "name": "ipython",
    "version": 3
   },
   "file_extension": ".py",
   "mimetype": "text/x-python",
   "name": "python",
   "nbconvert_exporter": "python",
   "pygments_lexer": "ipython3",
   "version": "3.10.0 (tags/v3.10.0:b494f59, Oct  4 2021, 19:00:18) [MSC v.1929 64 bit (AMD64)]"
  },
  "orig_nbformat": 4,
  "vscode": {
   "interpreter": {
    "hash": "e911bb79b95f2b40b7952d718cdc0528e6543e46ce2458b7a9454f8f1b299696"
   }
  }
 },
 "nbformat": 4,
 "nbformat_minor": 2
}
